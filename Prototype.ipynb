{
 "cells": [
  {
   "cell_type": "markdown",
   "id": "3c3491a3-ba79-40b3-9414-b99516f932e2",
   "metadata": {},
   "source": [
    "# Prototype"
   ]
  },
  {
   "cell_type": "code",
   "execution_count": 15,
   "id": "00598192-05c5-47af-93d1-52c257467266",
   "metadata": {},
   "outputs": [],
   "source": [
    "# imports the classes and functions from the code \n",
    "%run \"python/questionType.py\"\n",
    "%run \"python/quizMakerManager.py\"\n",
    "%run \"python/quizMakerInteraction.py\"\n",
    "%run \"python/quizGeneration.py\"\n",
    "%run \"python/quizTaker.py\"\n",
    "%run \"python/quizEditor.py\""
   ]
  },
  {
   "cell_type": "code",
   "execution_count": 16,
   "id": "92debc94-6de8-4085-9032-4f8c3d2cf85c",
   "metadata": {},
   "outputs": [
    {
     "data": {
      "application/vnd.jupyter.widget-view+json": {
       "model_id": "e42b0267a8bb4961b4de94edae313149",
       "version_major": 2,
       "version_minor": 0
      },
      "text/plain": [
       "HBox(children=(VBox(children=(Text(value='', description='Topic:', style=TextStyle(description_width='initial'…"
      ]
     },
     "metadata": {},
     "output_type": "display_data"
    }
   ],
   "source": [
    "# Quiz Creation\n",
    "quizManager = QuizMakerManager()\n",
    "interactWithQuizManager(quizManager)"
   ]
  },
  {
   "cell_type": "code",
   "execution_count": 18,
   "id": "26cfa984-f57b-4b12-a58e-31e753b1afe3",
   "metadata": {},
   "outputs": [
    {
     "name": "stdout",
     "output_type": "stream",
     "text": [
      "done\n"
     ]
    }
   ],
   "source": [
    "# Quiz Generation\n",
    "fileNameToWrite=\"quiz2.json\"\n",
    "promptBuild=promptBuilder(quizManager)\n",
    "model = \"gpt-4-1106-preview\" # \"gpt-4-1106-preview\" or \"gpt-3.5-turbo-1106\"\n",
    "generateQuiz(promptBuild, fileNameToWrite, model)\n",
    "print(\"done\")"
   ]
  },
  {
   "cell_type": "code",
   "execution_count": 20,
   "id": "b266f079-2239-4d01-a49b-7f622c33742f",
   "metadata": {},
   "outputs": [
    {
     "data": {
      "application/vnd.jupyter.widget-view+json": {
       "model_id": "9d4f9f10acf64a0fa3c3fd2ceb11b718",
       "version_major": 2,
       "version_minor": 0
      },
      "text/plain": [
       "VBox(children=(Text(value='High School Vectors and 3D Space Quiz', description='Quiz Title:'), Checkbox(value=…"
      ]
     },
     "metadata": {},
     "output_type": "display_data"
    }
   ],
   "source": [
    "# Quiz Editing\n",
    "quizData = loadQuiz('quiz2.json')  # Load your initial quiz data\n",
    "editQuiz(quizData)  # Pass the loaded data to the editing interface"
   ]
  },
  {
   "cell_type": "code",
   "execution_count": 21,
   "id": "80c0654c-54cc-4871-8a02-9148d4235366",
   "metadata": {},
   "outputs": [
    {
     "data": {
      "application/vnd.jupyter.widget-view+json": {
       "model_id": "e99b87691f704c7b8f78803e83dd2045",
       "version_major": 2,
       "version_minor": 0
      },
      "text/plain": [
       "Output()"
      ]
     },
     "metadata": {},
     "output_type": "display_data"
    },
    {
     "data": {
      "application/vnd.jupyter.widget-view+json": {
       "model_id": "b4139bf573b9410aa0d16191d56a6de1",
       "version_major": 2,
       "version_minor": 0
      },
      "text/plain": [
       "Button(description='Submit Quiz', style=ButtonStyle())"
      ]
     },
     "metadata": {},
     "output_type": "display_data"
    },
    {
     "data": {
      "application/vnd.jupyter.widget-view+json": {
       "model_id": "f7ee4c0ad6d84b8799eb7d97a7a7064d",
       "version_major": 2,
       "version_minor": 0
      },
      "text/plain": [
       "Output()"
      ]
     },
     "metadata": {},
     "output_type": "display_data"
    }
   ],
   "source": [
    "#Quiz Displaying\n",
    "\n",
    "#fileName = fileNameToWrite\n",
    "fileName =\"quiz2.json\"\n",
    "quizData = loadQuiz(fileName)\n",
    "displayQuiz(quizData)"
   ]
  },
  {
   "cell_type": "code",
   "execution_count": null,
   "id": "2e65241a-07c7-45c2-8159-5f27d68ece21",
   "metadata": {},
   "outputs": [],
   "source": []
  }
 ],
 "metadata": {
  "kernelspec": {
   "display_name": "Python 3 (ipykernel)",
   "language": "python",
   "name": "python3"
  },
  "language_info": {
   "codemirror_mode": {
    "name": "ipython",
    "version": 3
   },
   "file_extension": ".py",
   "mimetype": "text/x-python",
   "name": "python",
   "nbconvert_exporter": "python",
   "pygments_lexer": "ipython3",
   "version": "3.12.2"
  }
 },
 "nbformat": 4,
 "nbformat_minor": 5
}
