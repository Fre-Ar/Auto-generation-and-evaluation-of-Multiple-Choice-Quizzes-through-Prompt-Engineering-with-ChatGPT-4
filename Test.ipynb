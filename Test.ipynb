{
 "cells": [
  {
   "cell_type": "code",
   "execution_count": 1,
   "id": "f581d10a-7466-40c0-a24e-03f8a5586a76",
   "metadata": {},
   "outputs": [
    {
     "data": {
      "application/vnd.jupyter.widget-view+json": {
       "model_id": "02babf51371143acbdf45339054d6dc9",
       "version_major": 2,
       "version_minor": 0
      },
      "text/plain": [
       "HBox(children=(VBox(children=(Text(value='', description='Topic:'), Textarea(value='', description='Topic Desc…"
      ]
     },
     "metadata": {},
     "output_type": "display_data"
    }
   ],
   "source": [
    "%run code.ipynb\n",
    "\n",
    "\n",
    "quiz_manager = QuizManager()\n",
    "interact_with_quiz_manager(quiz_manager)"
   ]
  },
  {
   "cell_type": "code",
   "execution_count": 10,
   "id": "7fe01ac8-a24a-480f-a74e-8d409c90932f",
   "metadata": {},
   "outputs": [
    {
     "name": "stdout",
     "output_type": "stream",
     "text": [
      "done\n"
     ]
    }
   ],
   "source": [
    "%run code.ipynb\n",
    "fileNameToWrite=\"quiz2.json\"\n",
    "promptBuild=promptBuilder(quiz_manager)\n",
    "generateQuiz(promptBuild, fileNameToWrite)\n",
    "print(\"done\")"
   ]
  },
  {
   "cell_type": "code",
   "execution_count": 11,
   "id": "7a76ad69-4041-49bc-9f4a-eb289bbcc45d",
   "metadata": {},
   "outputs": [
    {
     "data": {
      "application/vnd.jupyter.widget-view+json": {
       "model_id": "a7639f0b1a924dbc83ff9c233156dfcd",
       "version_major": 2,
       "version_minor": 0
      },
      "text/plain": [
       "Output()"
      ]
     },
     "metadata": {},
     "output_type": "display_data"
    },
    {
     "data": {
      "application/vnd.jupyter.widget-view+json": {
       "model_id": "7080746c50c74fc096b572a0eb04ccaf",
       "version_major": 2,
       "version_minor": 0
      },
      "text/plain": [
       "Button(description='Submit Quiz', style=ButtonStyle())"
      ]
     },
     "metadata": {},
     "output_type": "display_data"
    },
    {
     "data": {
      "application/vnd.jupyter.widget-view+json": {
       "model_id": "5b0f331d375e439391a8a06b47afd343",
       "version_major": 2,
       "version_minor": 0
      },
      "text/plain": [
       "Output()"
      ]
     },
     "metadata": {},
     "output_type": "display_data"
    }
   ],
   "source": [
    "quiz_data = load_quiz(fileNameToWrite)\n",
    "display_quiz(quiz_data)"
   ]
  },
  {
   "cell_type": "code",
   "execution_count": null,
   "id": "80f384ee-6c8d-4706-a9cc-bbc3223727d7",
   "metadata": {},
   "outputs": [],
   "source": []
  }
 ],
 "metadata": {
  "kernelspec": {
   "display_name": "Python 3 (ipykernel)",
   "language": "python",
   "name": "python3"
  },
  "language_info": {
   "codemirror_mode": {
    "name": "ipython",
    "version": 3
   },
   "file_extension": ".py",
   "mimetype": "text/x-python",
   "name": "python",
   "nbconvert_exporter": "python",
   "pygments_lexer": "ipython3",
   "version": "3.12.2"
  }
 },
 "nbformat": 4,
 "nbformat_minor": 5
}
