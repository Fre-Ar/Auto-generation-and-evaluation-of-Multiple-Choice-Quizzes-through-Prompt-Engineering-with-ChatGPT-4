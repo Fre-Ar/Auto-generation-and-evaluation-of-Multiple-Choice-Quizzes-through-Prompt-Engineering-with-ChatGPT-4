{
 "cells": [
  {
   "cell_type": "code",
   "execution_count": 5,
   "id": "f581d10a-7466-40c0-a24e-03f8a5586a76",
   "metadata": {},
   "outputs": [
    {
     "data": {
      "application/vnd.jupyter.widget-view+json": {
       "model_id": "458c0633505041c7b26ed641238b89d1",
       "version_major": 2,
       "version_minor": 0
      },
      "text/plain": [
       "HBox(children=(VBox(children=(Text(value='', description='Topic:', style=TextStyle(description_width='initial'…"
      ]
     },
     "metadata": {},
     "output_type": "display_data"
    }
   ],
   "source": [
    "# imports the classes and functions from the code \n",
    "%run code.ipynb\n",
    "\n",
    "\n",
    "quizManager = QuizManager()\n",
    "interactWithQuizManager(quizManager)"
   ]
  },
  {
   "cell_type": "code",
   "execution_count": 6,
   "id": "7fe01ac8-a24a-480f-a74e-8d409c90932f",
   "metadata": {},
   "outputs": [
    {
     "name": "stdout",
     "output_type": "stream",
     "text": [
      "done\n"
     ]
    }
   ],
   "source": [
    "%run code.ipynb\n",
    "fileNameToWrite=\"quiz2.json\"\n",
    "promptBuild=promptBuilder(quizManager)\n",
    "generateQuiz(promptBuild, fileNameToWrite)\n",
    "print(\"done\")"
   ]
  },
  {
   "cell_type": "code",
   "execution_count": 11,
   "id": "7a76ad69-4041-49bc-9f4a-eb289bbcc45d",
   "metadata": {
    "scrolled": true
   },
   "outputs": [
    {
     "data": {
      "application/vnd.jupyter.widget-view+json": {
       "model_id": "cd6581fcd83644ce83d90eb6e247dd86",
       "version_major": 2,
       "version_minor": 0
      },
      "text/plain": [
       "Output()"
      ]
     },
     "metadata": {},
     "output_type": "display_data"
    },
    {
     "data": {
      "application/vnd.jupyter.widget-view+json": {
       "model_id": "bf73935b6e074785878ceb9f1c22e4f3",
       "version_major": 2,
       "version_minor": 0
      },
      "text/plain": [
       "Button(description='Submit Quiz', style=ButtonStyle())"
      ]
     },
     "metadata": {},
     "output_type": "display_data"
    },
    {
     "data": {
      "application/vnd.jupyter.widget-view+json": {
       "model_id": "681865bd2f254f3d843737403a925222",
       "version_major": 2,
       "version_minor": 0
      },
      "text/plain": [
       "Output()"
      ]
     },
     "metadata": {},
     "output_type": "display_data"
    }
   ],
   "source": [
    "%run code.ipynb\n",
    "fileNameToWrite=\"quiz.json\"\n",
    "quizData = loadQuiz(fileNameToWrite)\n",
    "displayQuiz(quizData)"
   ]
  },
  {
   "cell_type": "code",
   "execution_count": null,
   "id": "5b9256d3-60d4-4bbb-992a-2b03c255f7bf",
   "metadata": {},
   "outputs": [],
   "source": []
  },
  {
   "cell_type": "code",
   "execution_count": null,
   "id": "80f384ee-6c8d-4706-a9cc-bbc3223727d7",
   "metadata": {},
   "outputs": [],
   "source": []
  }
 ],
 "metadata": {
  "kernelspec": {
   "display_name": "Python 3 (ipykernel)",
   "language": "python",
   "name": "python3"
  },
  "language_info": {
   "codemirror_mode": {
    "name": "ipython",
    "version": 3
   },
   "file_extension": ".py",
   "mimetype": "text/x-python",
   "name": "python",
   "nbconvert_exporter": "python",
   "pygments_lexer": "ipython3",
   "version": "3.12.2"
  }
 },
 "nbformat": 4,
 "nbformat_minor": 5
}
